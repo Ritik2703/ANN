{
  "nbformat": 4,
  "nbformat_minor": 0,
  "metadata": {
    "colab": {
      "name": "Anncolab.ipynb",
      "provenance": [],
      "toc_visible": true,
      "authorship_tag": "ABX9TyONVQGIaKJR4F0EICGh6Nz4",
      "include_colab_link": true
    },
    "kernelspec": {
      "name": "python3",
      "display_name": "Python 3"
    }
  },
  "cells": [
    {
      "cell_type": "markdown",
      "metadata": {
        "id": "view-in-github",
        "colab_type": "text"
      },
      "source": [
        "<a href=\"https://colab.research.google.com/github/Ritik2703/ANN/blob/master/Anncolab.ipynb\" target=\"_parent\"><img src=\"https://colab.research.google.com/assets/colab-badge.svg\" alt=\"Open In Colab\"/></a>"
      ]
    },
    {
      "cell_type": "code",
      "metadata": {
        "id": "iC_dpYrHPNrb",
        "colab_type": "code",
        "colab": {}
      },
      "source": [
        "from google.colab import drive"
      ],
      "execution_count": 1,
      "outputs": []
    },
    {
      "cell_type": "code",
      "metadata": {
        "id": "zItL_dUmPR3M",
        "colab_type": "code",
        "colab": {
          "base_uri": "https://localhost:8080/",
          "height": 34
        },
        "outputId": "3694dcac-9924-4bef-af9c-5989e73c6d93"
      },
      "source": [
        "drive.mount('/content/drive')"
      ],
      "execution_count": 2,
      "outputs": [
        {
          "output_type": "stream",
          "text": [
            "Mounted at /content/drive\n"
          ],
          "name": "stdout"
        }
      ]
    },
    {
      "cell_type": "code",
      "metadata": {
        "id": "qcWZSz1jVyoQ",
        "colab_type": "code",
        "colab": {
          "base_uri": "https://localhost:8080/",
          "height": 54
        },
        "outputId": "10ee91f4-2bb5-4490-81a1-eaf5d4ca13a2"
      },
      "source": [
        "from google.colab import drive\n",
        "drive.mount('/content/drive')"
      ],
      "execution_count": 3,
      "outputs": [
        {
          "output_type": "stream",
          "text": [
            "Drive already mounted at /content/drive; to attempt to forcibly remount, call drive.mount(\"/content/drive\", force_remount=True).\n"
          ],
          "name": "stdout"
        }
      ]
    },
    {
      "cell_type": "code",
      "metadata": {
        "id": "Ni8WUg5XVio6",
        "colab_type": "code",
        "colab": {}
      },
      "source": [
        "import numpy as np\n",
        "import matplotlib.pyplot as plt\n",
        "import pandas as pd"
      ],
      "execution_count": 4,
      "outputs": []
    },
    {
      "cell_type": "code",
      "metadata": {
        "id": "_azMhn6hV-8H",
        "colab_type": "code",
        "colab": {}
      },
      "source": [
        "dataset = pd.read_csv('/content/drive/My Drive/colab/Churn_Modelling.csv')\n",
        "X = dataset.iloc[:, 3:13]\n",
        "y = dataset.iloc[:, 13]"
      ],
      "execution_count": 6,
      "outputs": []
    },
    {
      "cell_type": "code",
      "metadata": {
        "id": "d6_nwDm0WAy_",
        "colab_type": "code",
        "colab": {
          "base_uri": "https://localhost:8080/",
          "height": 215
        },
        "outputId": "4cc95569-80fa-4a36-8f95-1be2ba3143aa"
      },
      "source": [
        "dataset.head()"
      ],
      "execution_count": 7,
      "outputs": [
        {
          "output_type": "execute_result",
          "data": {
            "text/html": [
              "<div>\n",
              "<style scoped>\n",
              "    .dataframe tbody tr th:only-of-type {\n",
              "        vertical-align: middle;\n",
              "    }\n",
              "\n",
              "    .dataframe tbody tr th {\n",
              "        vertical-align: top;\n",
              "    }\n",
              "\n",
              "    .dataframe thead th {\n",
              "        text-align: right;\n",
              "    }\n",
              "</style>\n",
              "<table border=\"1\" class=\"dataframe\">\n",
              "  <thead>\n",
              "    <tr style=\"text-align: right;\">\n",
              "      <th></th>\n",
              "      <th>RowNumber</th>\n",
              "      <th>CustomerId</th>\n",
              "      <th>Surname</th>\n",
              "      <th>CreditScore</th>\n",
              "      <th>Geography</th>\n",
              "      <th>Gender</th>\n",
              "      <th>Age</th>\n",
              "      <th>Tenure</th>\n",
              "      <th>Balance</th>\n",
              "      <th>NumOfProducts</th>\n",
              "      <th>HasCrCard</th>\n",
              "      <th>IsActiveMember</th>\n",
              "      <th>EstimatedSalary</th>\n",
              "      <th>Exited</th>\n",
              "    </tr>\n",
              "  </thead>\n",
              "  <tbody>\n",
              "    <tr>\n",
              "      <th>0</th>\n",
              "      <td>1</td>\n",
              "      <td>15634602</td>\n",
              "      <td>Hargrave</td>\n",
              "      <td>619</td>\n",
              "      <td>France</td>\n",
              "      <td>Female</td>\n",
              "      <td>42</td>\n",
              "      <td>2</td>\n",
              "      <td>0.00</td>\n",
              "      <td>1</td>\n",
              "      <td>1</td>\n",
              "      <td>1</td>\n",
              "      <td>101348.88</td>\n",
              "      <td>1</td>\n",
              "    </tr>\n",
              "    <tr>\n",
              "      <th>1</th>\n",
              "      <td>2</td>\n",
              "      <td>15647311</td>\n",
              "      <td>Hill</td>\n",
              "      <td>608</td>\n",
              "      <td>Spain</td>\n",
              "      <td>Female</td>\n",
              "      <td>41</td>\n",
              "      <td>1</td>\n",
              "      <td>83807.86</td>\n",
              "      <td>1</td>\n",
              "      <td>0</td>\n",
              "      <td>1</td>\n",
              "      <td>112542.58</td>\n",
              "      <td>0</td>\n",
              "    </tr>\n",
              "    <tr>\n",
              "      <th>2</th>\n",
              "      <td>3</td>\n",
              "      <td>15619304</td>\n",
              "      <td>Onio</td>\n",
              "      <td>502</td>\n",
              "      <td>France</td>\n",
              "      <td>Female</td>\n",
              "      <td>42</td>\n",
              "      <td>8</td>\n",
              "      <td>159660.80</td>\n",
              "      <td>3</td>\n",
              "      <td>1</td>\n",
              "      <td>0</td>\n",
              "      <td>113931.57</td>\n",
              "      <td>1</td>\n",
              "    </tr>\n",
              "    <tr>\n",
              "      <th>3</th>\n",
              "      <td>4</td>\n",
              "      <td>15701354</td>\n",
              "      <td>Boni</td>\n",
              "      <td>699</td>\n",
              "      <td>France</td>\n",
              "      <td>Female</td>\n",
              "      <td>39</td>\n",
              "      <td>1</td>\n",
              "      <td>0.00</td>\n",
              "      <td>2</td>\n",
              "      <td>0</td>\n",
              "      <td>0</td>\n",
              "      <td>93826.63</td>\n",
              "      <td>0</td>\n",
              "    </tr>\n",
              "    <tr>\n",
              "      <th>4</th>\n",
              "      <td>5</td>\n",
              "      <td>15737888</td>\n",
              "      <td>Mitchell</td>\n",
              "      <td>850</td>\n",
              "      <td>Spain</td>\n",
              "      <td>Female</td>\n",
              "      <td>43</td>\n",
              "      <td>2</td>\n",
              "      <td>125510.82</td>\n",
              "      <td>1</td>\n",
              "      <td>1</td>\n",
              "      <td>1</td>\n",
              "      <td>79084.10</td>\n",
              "      <td>0</td>\n",
              "    </tr>\n",
              "  </tbody>\n",
              "</table>\n",
              "</div>"
            ],
            "text/plain": [
              "   RowNumber  CustomerId   Surname  ...  IsActiveMember EstimatedSalary Exited\n",
              "0          1    15634602  Hargrave  ...               1       101348.88      1\n",
              "1          2    15647311      Hill  ...               1       112542.58      0\n",
              "2          3    15619304      Onio  ...               0       113931.57      1\n",
              "3          4    15701354      Boni  ...               0        93826.63      0\n",
              "4          5    15737888  Mitchell  ...               1        79084.10      0\n",
              "\n",
              "[5 rows x 14 columns]"
            ]
          },
          "metadata": {
            "tags": []
          },
          "execution_count": 7
        }
      ]
    },
    {
      "cell_type": "code",
      "metadata": {
        "id": "F9YRB6woWR3d",
        "colab_type": "code",
        "colab": {}
      },
      "source": [
        "geography=pd.get_dummies(X[\"Geography\"],drop_first=True)\n",
        "gender=pd.get_dummies(X['Gender'],drop_first=True)"
      ],
      "execution_count": 8,
      "outputs": []
    },
    {
      "cell_type": "code",
      "metadata": {
        "id": "xGpPNU9wWWAH",
        "colab_type": "code",
        "colab": {}
      },
      "source": [
        "X=pd.concat([X,geography,gender],axis=1)\n",
        "\n",
        "## Drop Unnecessary columns\n",
        "X=X.drop(['Geography','Gender'],axis=1)\n"
      ],
      "execution_count": 9,
      "outputs": []
    },
    {
      "cell_type": "code",
      "metadata": {
        "id": "CG4ZoGlDWX37",
        "colab_type": "code",
        "colab": {}
      },
      "source": [
        "from sklearn.model_selection import train_test_split\n",
        "X_train, X_test, y_train, y_test = train_test_split(X, y, test_size = 0.2, random_state = 0)\n"
      ],
      "execution_count": 10,
      "outputs": []
    },
    {
      "cell_type": "code",
      "metadata": {
        "id": "7XoiuSSqWaSm",
        "colab_type": "code",
        "colab": {}
      },
      "source": [
        "from sklearn.preprocessing import StandardScaler\n",
        "sc = StandardScaler()\n",
        "X_train = sc.fit_transform(X_train)\n",
        "X_test = sc.transform(X_test)"
      ],
      "execution_count": 11,
      "outputs": []
    },
    {
      "cell_type": "code",
      "metadata": {
        "id": "Gzh_5PKrWi-x",
        "colab_type": "code",
        "colab": {}
      },
      "source": [
        "import keras\n",
        "from keras.models import Sequential\n",
        "from keras.layers import Dense\n",
        "from keras.layers import LeakyReLU,PReLU,ELU\n",
        "from keras.layers import Dropout"
      ],
      "execution_count": 12,
      "outputs": []
    },
    {
      "cell_type": "code",
      "metadata": {
        "id": "SIArkk3sWk60",
        "colab_type": "code",
        "colab": {
          "base_uri": "https://localhost:8080/",
          "height": 1000
        },
        "outputId": "682fabfe-afe1-49c9-93ad-a2108539369e"
      },
      "source": [
        "# Initialising the ANN\n",
        "classifier = Sequential()\n",
        "\n",
        "# Adding the input layer and the first hidden layer\n",
        "classifier.add(Dense(units= 6, kernel_initializer = 'he_uniform',activation='relu',input_dim = 11))\n",
        "\n",
        "# Adding the second hidden layer\n",
        "classifier.add(Dense(units = 6, kernel_initializer = 'he_uniform',activation='relu'))\n",
        "# Adding the output layer\n",
        "classifier.add(Dense(units= 1, kernel_initializer = 'glorot_uniform', activation = 'sigmoid'))\n",
        "\n",
        "# Compiling the ANN\n",
        "classifier.compile(optimizer = 'Adamax', loss = 'binary_crossentropy', metrics = ['accuracy'])\n",
        "\n",
        "# Fitting the ANN to the Training set\n",
        "model_history=classifier.fit(X_train, y_train,validation_split=0.33, batch_size = 10, epochs = 100)\n"
      ],
      "execution_count": 13,
      "outputs": [
        {
          "output_type": "stream",
          "text": [
            "Epoch 1/100\n",
            "536/536 [==============================] - 1s 2ms/step - loss: 0.7555 - accuracy: 0.5305 - val_loss: 0.5549 - val_accuracy: 0.7717\n",
            "Epoch 2/100\n",
            "536/536 [==============================] - 1s 1ms/step - loss: 0.5214 - accuracy: 0.7932 - val_loss: 0.5029 - val_accuracy: 0.7959\n",
            "Epoch 3/100\n",
            "536/536 [==============================] - 1s 1ms/step - loss: 0.5005 - accuracy: 0.7966 - val_loss: 0.4925 - val_accuracy: 0.7952\n",
            "Epoch 4/100\n",
            "536/536 [==============================] - 1s 1ms/step - loss: 0.4913 - accuracy: 0.7964 - val_loss: 0.4857 - val_accuracy: 0.7948\n",
            "Epoch 5/100\n",
            "536/536 [==============================] - 1s 1ms/step - loss: 0.4842 - accuracy: 0.7964 - val_loss: 0.4802 - val_accuracy: 0.7948\n",
            "Epoch 6/100\n",
            "536/536 [==============================] - 1s 1ms/step - loss: 0.4780 - accuracy: 0.7964 - val_loss: 0.4749 - val_accuracy: 0.7948\n",
            "Epoch 7/100\n",
            "536/536 [==============================] - 1s 1ms/step - loss: 0.4719 - accuracy: 0.7974 - val_loss: 0.4703 - val_accuracy: 0.7955\n",
            "Epoch 8/100\n",
            "536/536 [==============================] - 1s 1ms/step - loss: 0.4664 - accuracy: 0.7968 - val_loss: 0.4659 - val_accuracy: 0.7959\n",
            "Epoch 9/100\n",
            "536/536 [==============================] - 1s 1ms/step - loss: 0.4609 - accuracy: 0.7983 - val_loss: 0.4617 - val_accuracy: 0.7970\n",
            "Epoch 10/100\n",
            "536/536 [==============================] - 1s 1ms/step - loss: 0.4554 - accuracy: 0.8000 - val_loss: 0.4579 - val_accuracy: 0.7993\n",
            "Epoch 11/100\n",
            "536/536 [==============================] - 1s 1ms/step - loss: 0.4507 - accuracy: 0.8035 - val_loss: 0.4536 - val_accuracy: 0.8005\n",
            "Epoch 12/100\n",
            "536/536 [==============================] - 1s 1ms/step - loss: 0.4458 - accuracy: 0.8044 - val_loss: 0.4497 - val_accuracy: 0.8016\n",
            "Epoch 13/100\n",
            "536/536 [==============================] - 1s 1ms/step - loss: 0.4414 - accuracy: 0.8065 - val_loss: 0.4457 - val_accuracy: 0.8039\n",
            "Epoch 14/100\n",
            "536/536 [==============================] - 1s 1ms/step - loss: 0.4372 - accuracy: 0.8084 - val_loss: 0.4422 - val_accuracy: 0.8027\n",
            "Epoch 15/100\n",
            "536/536 [==============================] - 1s 1ms/step - loss: 0.4336 - accuracy: 0.8104 - val_loss: 0.4388 - val_accuracy: 0.8035\n",
            "Epoch 16/100\n",
            "536/536 [==============================] - 1s 1ms/step - loss: 0.4301 - accuracy: 0.8106 - val_loss: 0.4360 - val_accuracy: 0.8054\n",
            "Epoch 17/100\n",
            "536/536 [==============================] - 1s 1ms/step - loss: 0.4270 - accuracy: 0.8119 - val_loss: 0.4334 - val_accuracy: 0.8069\n",
            "Epoch 18/100\n",
            "536/536 [==============================] - 1s 1ms/step - loss: 0.4241 - accuracy: 0.8141 - val_loss: 0.4311 - val_accuracy: 0.8095\n",
            "Epoch 19/100\n",
            "536/536 [==============================] - 1s 1ms/step - loss: 0.4211 - accuracy: 0.8149 - val_loss: 0.4289 - val_accuracy: 0.8118\n",
            "Epoch 20/100\n",
            "536/536 [==============================] - 1s 1ms/step - loss: 0.4185 - accuracy: 0.8166 - val_loss: 0.4269 - val_accuracy: 0.8133\n",
            "Epoch 21/100\n",
            "536/536 [==============================] - 1s 1ms/step - loss: 0.4159 - accuracy: 0.8179 - val_loss: 0.4251 - val_accuracy: 0.8167\n",
            "Epoch 22/100\n",
            "536/536 [==============================] - 1s 1ms/step - loss: 0.4135 - accuracy: 0.8190 - val_loss: 0.4234 - val_accuracy: 0.8171\n",
            "Epoch 23/100\n",
            "536/536 [==============================] - 1s 1ms/step - loss: 0.4113 - accuracy: 0.8194 - val_loss: 0.4218 - val_accuracy: 0.8186\n",
            "Epoch 24/100\n",
            "536/536 [==============================] - 1s 1ms/step - loss: 0.4091 - accuracy: 0.8205 - val_loss: 0.4204 - val_accuracy: 0.8171\n",
            "Epoch 25/100\n",
            "536/536 [==============================] - 1s 1ms/step - loss: 0.4072 - accuracy: 0.8218 - val_loss: 0.4191 - val_accuracy: 0.8179\n",
            "Epoch 26/100\n",
            "536/536 [==============================] - 1s 1ms/step - loss: 0.4052 - accuracy: 0.8225 - val_loss: 0.4178 - val_accuracy: 0.8186\n",
            "Epoch 27/100\n",
            "536/536 [==============================] - 1s 1ms/step - loss: 0.4034 - accuracy: 0.8250 - val_loss: 0.4163 - val_accuracy: 0.8183\n",
            "Epoch 28/100\n",
            "536/536 [==============================] - 1s 1ms/step - loss: 0.4016 - accuracy: 0.8255 - val_loss: 0.4149 - val_accuracy: 0.8186\n",
            "Epoch 29/100\n",
            "536/536 [==============================] - 1s 1ms/step - loss: 0.3997 - accuracy: 0.8280 - val_loss: 0.4135 - val_accuracy: 0.8198\n",
            "Epoch 30/100\n",
            "536/536 [==============================] - 1s 1ms/step - loss: 0.3979 - accuracy: 0.8263 - val_loss: 0.4119 - val_accuracy: 0.8194\n",
            "Epoch 31/100\n",
            "536/536 [==============================] - 1s 1ms/step - loss: 0.3957 - accuracy: 0.8270 - val_loss: 0.4104 - val_accuracy: 0.8205\n",
            "Epoch 32/100\n",
            "536/536 [==============================] - 1s 1ms/step - loss: 0.3939 - accuracy: 0.8278 - val_loss: 0.4087 - val_accuracy: 0.8213\n",
            "Epoch 33/100\n",
            "536/536 [==============================] - 1s 1ms/step - loss: 0.3918 - accuracy: 0.8300 - val_loss: 0.4067 - val_accuracy: 0.8228\n",
            "Epoch 34/100\n",
            "536/536 [==============================] - 1s 1ms/step - loss: 0.3897 - accuracy: 0.8326 - val_loss: 0.4048 - val_accuracy: 0.8247\n",
            "Epoch 35/100\n",
            "536/536 [==============================] - 1s 1ms/step - loss: 0.3878 - accuracy: 0.8354 - val_loss: 0.4031 - val_accuracy: 0.8254\n",
            "Epoch 36/100\n",
            "536/536 [==============================] - 1s 1ms/step - loss: 0.3858 - accuracy: 0.8367 - val_loss: 0.4014 - val_accuracy: 0.8273\n",
            "Epoch 37/100\n",
            "536/536 [==============================] - 1s 1ms/step - loss: 0.3839 - accuracy: 0.8380 - val_loss: 0.3998 - val_accuracy: 0.8273\n",
            "Epoch 38/100\n",
            "536/536 [==============================] - 1s 1ms/step - loss: 0.3818 - accuracy: 0.8393 - val_loss: 0.3982 - val_accuracy: 0.8296\n",
            "Epoch 39/100\n",
            "536/536 [==============================] - 1s 1ms/step - loss: 0.3796 - accuracy: 0.8412 - val_loss: 0.3961 - val_accuracy: 0.8296\n",
            "Epoch 40/100\n",
            "536/536 [==============================] - 1s 1ms/step - loss: 0.3773 - accuracy: 0.8438 - val_loss: 0.3941 - val_accuracy: 0.8315\n",
            "Epoch 41/100\n",
            "536/536 [==============================] - 1s 1ms/step - loss: 0.3749 - accuracy: 0.8455 - val_loss: 0.3921 - val_accuracy: 0.8338\n",
            "Epoch 42/100\n",
            "536/536 [==============================] - 1s 1ms/step - loss: 0.3729 - accuracy: 0.8477 - val_loss: 0.3900 - val_accuracy: 0.8326\n",
            "Epoch 43/100\n",
            "536/536 [==============================] - 1s 1ms/step - loss: 0.3706 - accuracy: 0.8487 - val_loss: 0.3879 - val_accuracy: 0.8345\n",
            "Epoch 44/100\n",
            "536/536 [==============================] - 1s 1ms/step - loss: 0.3684 - accuracy: 0.8494 - val_loss: 0.3863 - val_accuracy: 0.8360\n",
            "Epoch 45/100\n",
            "536/536 [==============================] - 1s 1ms/step - loss: 0.3663 - accuracy: 0.8505 - val_loss: 0.3841 - val_accuracy: 0.8368\n",
            "Epoch 46/100\n",
            "536/536 [==============================] - 1s 1ms/step - loss: 0.3643 - accuracy: 0.8496 - val_loss: 0.3823 - val_accuracy: 0.8368\n",
            "Epoch 47/100\n",
            "536/536 [==============================] - 1s 1ms/step - loss: 0.3624 - accuracy: 0.8513 - val_loss: 0.3808 - val_accuracy: 0.8410\n",
            "Epoch 48/100\n",
            "536/536 [==============================] - 1s 1ms/step - loss: 0.3607 - accuracy: 0.8513 - val_loss: 0.3795 - val_accuracy: 0.8387\n",
            "Epoch 49/100\n",
            "536/536 [==============================] - 1s 1ms/step - loss: 0.3592 - accuracy: 0.8539 - val_loss: 0.3780 - val_accuracy: 0.8429\n",
            "Epoch 50/100\n",
            "536/536 [==============================] - 1s 1ms/step - loss: 0.3577 - accuracy: 0.8550 - val_loss: 0.3769 - val_accuracy: 0.8436\n",
            "Epoch 51/100\n",
            "536/536 [==============================] - 1s 1ms/step - loss: 0.3564 - accuracy: 0.8535 - val_loss: 0.3764 - val_accuracy: 0.8406\n",
            "Epoch 52/100\n",
            "536/536 [==============================] - 1s 1ms/step - loss: 0.3554 - accuracy: 0.8550 - val_loss: 0.3749 - val_accuracy: 0.8436\n",
            "Epoch 53/100\n",
            "536/536 [==============================] - 1s 1ms/step - loss: 0.3542 - accuracy: 0.8558 - val_loss: 0.3741 - val_accuracy: 0.8448\n",
            "Epoch 54/100\n",
            "536/536 [==============================] - 1s 1ms/step - loss: 0.3530 - accuracy: 0.8520 - val_loss: 0.3731 - val_accuracy: 0.8440\n",
            "Epoch 55/100\n",
            "536/536 [==============================] - 1s 1ms/step - loss: 0.3520 - accuracy: 0.8563 - val_loss: 0.3724 - val_accuracy: 0.8448\n",
            "Epoch 56/100\n",
            "536/536 [==============================] - 1s 1ms/step - loss: 0.3508 - accuracy: 0.8563 - val_loss: 0.3715 - val_accuracy: 0.8440\n",
            "Epoch 57/100\n",
            "536/536 [==============================] - 1s 1ms/step - loss: 0.3500 - accuracy: 0.8572 - val_loss: 0.3713 - val_accuracy: 0.8455\n",
            "Epoch 58/100\n",
            "536/536 [==============================] - 1s 2ms/step - loss: 0.3493 - accuracy: 0.8559 - val_loss: 0.3704 - val_accuracy: 0.8466\n",
            "Epoch 59/100\n",
            "536/536 [==============================] - 1s 2ms/step - loss: 0.3485 - accuracy: 0.8556 - val_loss: 0.3695 - val_accuracy: 0.8459\n",
            "Epoch 60/100\n",
            "536/536 [==============================] - 1s 1ms/step - loss: 0.3476 - accuracy: 0.8561 - val_loss: 0.3701 - val_accuracy: 0.8463\n",
            "Epoch 61/100\n",
            "536/536 [==============================] - 1s 1ms/step - loss: 0.3471 - accuracy: 0.8572 - val_loss: 0.3692 - val_accuracy: 0.8463\n",
            "Epoch 62/100\n",
            "536/536 [==============================] - 1s 1ms/step - loss: 0.3463 - accuracy: 0.8567 - val_loss: 0.3688 - val_accuracy: 0.8466\n",
            "Epoch 63/100\n",
            "536/536 [==============================] - 1s 1ms/step - loss: 0.3458 - accuracy: 0.8565 - val_loss: 0.3688 - val_accuracy: 0.8474\n",
            "Epoch 64/100\n",
            "536/536 [==============================] - 1s 1ms/step - loss: 0.3453 - accuracy: 0.8572 - val_loss: 0.3680 - val_accuracy: 0.8470\n",
            "Epoch 65/100\n",
            "536/536 [==============================] - 1s 1ms/step - loss: 0.3449 - accuracy: 0.8563 - val_loss: 0.3677 - val_accuracy: 0.8470\n",
            "Epoch 66/100\n",
            "536/536 [==============================] - 1s 1ms/step - loss: 0.3440 - accuracy: 0.8559 - val_loss: 0.3683 - val_accuracy: 0.8485\n",
            "Epoch 67/100\n",
            "536/536 [==============================] - 1s 1ms/step - loss: 0.3439 - accuracy: 0.8572 - val_loss: 0.3673 - val_accuracy: 0.8466\n",
            "Epoch 68/100\n",
            "536/536 [==============================] - 1s 1ms/step - loss: 0.3432 - accuracy: 0.8578 - val_loss: 0.3668 - val_accuracy: 0.8474\n",
            "Epoch 69/100\n",
            "536/536 [==============================] - 1s 1ms/step - loss: 0.3426 - accuracy: 0.8589 - val_loss: 0.3666 - val_accuracy: 0.8478\n",
            "Epoch 70/100\n",
            "536/536 [==============================] - 1s 1ms/step - loss: 0.3424 - accuracy: 0.8574 - val_loss: 0.3662 - val_accuracy: 0.8466\n",
            "Epoch 71/100\n",
            "536/536 [==============================] - 1s 1ms/step - loss: 0.3421 - accuracy: 0.8574 - val_loss: 0.3660 - val_accuracy: 0.8466\n",
            "Epoch 72/100\n",
            "536/536 [==============================] - 1s 1ms/step - loss: 0.3418 - accuracy: 0.8572 - val_loss: 0.3659 - val_accuracy: 0.8459\n",
            "Epoch 73/100\n",
            "536/536 [==============================] - 1s 1ms/step - loss: 0.3416 - accuracy: 0.8578 - val_loss: 0.3659 - val_accuracy: 0.8470\n",
            "Epoch 74/100\n",
            "536/536 [==============================] - 1s 1ms/step - loss: 0.3414 - accuracy: 0.8580 - val_loss: 0.3655 - val_accuracy: 0.8459\n",
            "Epoch 75/100\n",
            "536/536 [==============================] - 1s 1ms/step - loss: 0.3410 - accuracy: 0.8580 - val_loss: 0.3655 - val_accuracy: 0.8485\n",
            "Epoch 76/100\n",
            "536/536 [==============================] - 1s 1ms/step - loss: 0.3408 - accuracy: 0.8574 - val_loss: 0.3651 - val_accuracy: 0.8459\n",
            "Epoch 77/100\n",
            "536/536 [==============================] - 1s 1ms/step - loss: 0.3403 - accuracy: 0.8571 - val_loss: 0.3647 - val_accuracy: 0.8448\n",
            "Epoch 78/100\n",
            "536/536 [==============================] - 1s 1ms/step - loss: 0.3404 - accuracy: 0.8565 - val_loss: 0.3645 - val_accuracy: 0.8466\n",
            "Epoch 79/100\n",
            "536/536 [==============================] - 1s 1ms/step - loss: 0.3397 - accuracy: 0.8569 - val_loss: 0.3656 - val_accuracy: 0.8482\n",
            "Epoch 80/100\n",
            "536/536 [==============================] - 1s 1ms/step - loss: 0.3397 - accuracy: 0.8589 - val_loss: 0.3648 - val_accuracy: 0.8489\n",
            "Epoch 81/100\n",
            "536/536 [==============================] - 1s 1ms/step - loss: 0.3397 - accuracy: 0.8576 - val_loss: 0.3642 - val_accuracy: 0.8448\n",
            "Epoch 82/100\n",
            "536/536 [==============================] - 1s 1ms/step - loss: 0.3390 - accuracy: 0.8599 - val_loss: 0.3645 - val_accuracy: 0.8497\n",
            "Epoch 83/100\n",
            "536/536 [==============================] - 1s 1ms/step - loss: 0.3390 - accuracy: 0.8572 - val_loss: 0.3642 - val_accuracy: 0.8493\n",
            "Epoch 84/100\n",
            "536/536 [==============================] - 1s 1ms/step - loss: 0.3389 - accuracy: 0.8584 - val_loss: 0.3640 - val_accuracy: 0.8474\n",
            "Epoch 85/100\n",
            "536/536 [==============================] - 1s 1ms/step - loss: 0.3384 - accuracy: 0.8571 - val_loss: 0.3637 - val_accuracy: 0.8466\n",
            "Epoch 86/100\n",
            "536/536 [==============================] - 1s 1ms/step - loss: 0.3381 - accuracy: 0.8572 - val_loss: 0.3636 - val_accuracy: 0.8482\n",
            "Epoch 87/100\n",
            "536/536 [==============================] - 1s 1ms/step - loss: 0.3381 - accuracy: 0.8586 - val_loss: 0.3635 - val_accuracy: 0.8474\n",
            "Epoch 88/100\n",
            "536/536 [==============================] - 1s 1ms/step - loss: 0.3379 - accuracy: 0.8584 - val_loss: 0.3633 - val_accuracy: 0.8478\n",
            "Epoch 89/100\n",
            "536/536 [==============================] - 1s 1ms/step - loss: 0.3379 - accuracy: 0.8574 - val_loss: 0.3630 - val_accuracy: 0.8478\n",
            "Epoch 90/100\n",
            "536/536 [==============================] - 1s 1ms/step - loss: 0.3374 - accuracy: 0.8582 - val_loss: 0.3634 - val_accuracy: 0.8485\n",
            "Epoch 91/100\n",
            "536/536 [==============================] - 1s 1ms/step - loss: 0.3376 - accuracy: 0.8576 - val_loss: 0.3627 - val_accuracy: 0.8482\n",
            "Epoch 92/100\n",
            "536/536 [==============================] - 1s 1ms/step - loss: 0.3373 - accuracy: 0.8582 - val_loss: 0.3625 - val_accuracy: 0.8482\n",
            "Epoch 93/100\n",
            "536/536 [==============================] - 1s 1ms/step - loss: 0.3371 - accuracy: 0.8584 - val_loss: 0.3624 - val_accuracy: 0.8478\n",
            "Epoch 94/100\n",
            "536/536 [==============================] - 1s 1ms/step - loss: 0.3369 - accuracy: 0.8593 - val_loss: 0.3624 - val_accuracy: 0.8489\n",
            "Epoch 95/100\n",
            "536/536 [==============================] - 1s 1ms/step - loss: 0.3367 - accuracy: 0.8574 - val_loss: 0.3620 - val_accuracy: 0.8485\n",
            "Epoch 96/100\n",
            "536/536 [==============================] - 1s 1ms/step - loss: 0.3364 - accuracy: 0.8565 - val_loss: 0.3625 - val_accuracy: 0.8497\n",
            "Epoch 97/100\n",
            "536/536 [==============================] - 1s 1ms/step - loss: 0.3364 - accuracy: 0.8595 - val_loss: 0.3620 - val_accuracy: 0.8497\n",
            "Epoch 98/100\n",
            "536/536 [==============================] - 1s 1ms/step - loss: 0.3361 - accuracy: 0.8591 - val_loss: 0.3617 - val_accuracy: 0.8493\n",
            "Epoch 99/100\n",
            "536/536 [==============================] - 1s 1ms/step - loss: 0.3359 - accuracy: 0.8595 - val_loss: 0.3621 - val_accuracy: 0.8478\n",
            "Epoch 100/100\n",
            "536/536 [==============================] - 1s 1ms/step - loss: 0.3362 - accuracy: 0.8591 - val_loss: 0.3611 - val_accuracy: 0.8493\n"
          ],
          "name": "stdout"
        }
      ]
    },
    {
      "cell_type": "code",
      "metadata": {
        "id": "UlyG8D0mWoz7",
        "colab_type": "code",
        "colab": {
          "base_uri": "https://localhost:8080/",
          "height": 590
        },
        "outputId": "48e4c157-2e3f-4c0b-d334-fe0af0f23dbf"
      },
      "source": [
        "\n",
        "print(model_history.history.keys())\n",
        "# summarize history for accuracy\n",
        "plt.plot(model_history.history['accuracy'])\n",
        "plt.plot(model_history.history['val_accuracy'])\n",
        "plt.title('model accuracy')\n",
        "plt.ylabel('accuracy')\n",
        "plt.xlabel('epoch')\n",
        "plt.legend(['train', 'test'], loc='upper left')\n",
        "plt.show()\n",
        "\n",
        "# summarize history for loss\n",
        "plt.plot(model_history.history['loss'])\n",
        "plt.plot(model_history.history['val_loss'])\n",
        "plt.title('model loss')\n",
        "plt.ylabel('loss')\n",
        "plt.xlabel('epoch')\n",
        "plt.legend(['train', 'test'], loc='upper left')\n",
        "plt.show()\n"
      ],
      "execution_count": 14,
      "outputs": [
        {
          "output_type": "stream",
          "text": [
            "dict_keys(['loss', 'accuracy', 'val_loss', 'val_accuracy'])\n"
          ],
          "name": "stdout"
        },
        {
          "output_type": "display_data",
          "data": {
            "image/png": "[encoded data removed]",
            "text/plain": [
              "<Figure size 432x288 with 1 Axes>"
            ]
          },
          "metadata": {
            "tags": [],
            "needs_background": "light"
          }
        },
        {
          "output_type": "display_data",
          "data": {
            "image/png": "[encoded data removed]",
            "text/plain": [
              "<Figure size 432x288 with 1 Axes>"
            ]
          },
          "metadata": {
            "tags": [],
            "needs_background": "light"
          }
        }
      ]
    },
    {
      "cell_type": "code",
      "metadata": {
        "id": "Z-WfYksSW_ay",
        "colab_type": "code",
        "colab": {
          "base_uri": "https://localhost:8080/",
          "height": 34
        },
        "outputId": "888e0bdf-6c9c-47ec-b042-02573fd128de"
      },
      "source": [
        "# Part 3 - Making the predictions and evaluating the model\n",
        "\n",
        "# Predicting the Test set results\n",
        "y_pred = classifier.predict(X_test)\n",
        "y_pred = (y_pred > 0.5)\n",
        "\n",
        "# Making the Confusion Matrix\n",
        "from sklearn.metrics import confusion_matrix\n",
        "cm = confusion_matrix(y_test, y_pred)\n",
        "\n",
        "# Calculate the Accuracy\n",
        "from sklearn.metrics import accuracy_score\n",
        "score=accuracy_score(y_pred,y_test)\n",
        "\n",
        "print(score)"
      ],
      "execution_count": 15,
      "outputs": [
        {
          "output_type": "stream",
          "text": [
            "0.8535\n"
          ],
          "name": "stdout"
        }
      ]
    },
    {
      "cell_type": "code",
      "metadata": {
        "id": "bdxgwuyOXCJC",
        "colab_type": "code",
        "colab": {}
      },
      "source": [
        ""
      ],
      "execution_count": null,
      "outputs": []
    }
  ]
}